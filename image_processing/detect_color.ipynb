{
 "cells": [
  {
   "cell_type": "code",
   "execution_count": 1,
   "metadata": {},
   "outputs": [],
   "source": [
    "from PIL import Image                         # For reading image                 \n",
    "from IPython.display import display           # For displaying jpg file in jupyter notebook\n",
    "from IPython.display import Image as Img      # NOTE: It will cause name clash if i don't import it as Img"
   ]
  },
  {
   "cell_type": "code",
   "execution_count": 35,
   "metadata": {},
   "outputs": [
    {
     "data": {
      "image/png": "[encoded data removed]",
      "text/plain": [
       "<PIL.PngImagePlugin.PngImageFile image mode=RGB size=411x460>"
      ]
     },
     "execution_count": 35,
     "metadata": {},
     "output_type": "execute_result"
    }
   ],
   "source": [
    "im = Image.open(\"color-normalized.png\")\n",
    "px = im.load()\n",
    "im"
   ]
  },
  {
   "cell_type": "code",
   "execution_count": 36,
   "metadata": {},
   "outputs": [
    {
     "data": {
      "image/png": "[encoded data removed]",
      "text/plain": [
       "<PIL.PngImagePlugin.PngImageFile image mode=RGB size=411x460>"
      ]
     },
     "execution_count": 36,
     "metadata": {},
     "output_type": "execute_result"
    }
   ],
   "source": [
    "n, m = im.size\n",
    "red = (255, 0, 0)\n",
    "color_matrix = [[]]\n",
    "for i in range(n-1):\n",
    "    if color_matrix[-1]: color_matrix.append([])\n",
    "    for j in range(m-1):\n",
    "        if px[i,j] == red and px[i+1,j] == red and px[i,j+1] == red and px[i+1,j+1] != red:\n",
    "            # we got top left corner of a grid\n",
    "            # now we will fill the whole grid with the center color\n",
    "            i1, j1 = i+1, j+1\n",
    "            r, g, b = px[i1, j1]\n",
    "            if r > 200 and g > 200 and b > 200:\n",
    "                center_color = (255, 255, 255)\n",
    "            elif r > 150 and g > 100:\n",
    "                center_color = (255, 165, 0)\n",
    "            elif g > 80:\n",
    "                center_color = (0, 255, 0)\n",
    "            elif b > 65:\n",
    "                center_color = (0, 0, 255)\n",
    "            else:\n",
    "                center_color = (0, 0, 0)\n",
    "            while i1 < n and px[i1, j+1] != red:\n",
    "                i1 += 1\n",
    "            while j1 < m and px[i+1, j1] != red:\n",
    "                j1 += 1\n",
    "            for i2 in range(i+1, i1):\n",
    "                for j2 in range(j+1, j1):\n",
    "                    px[i2, j2] = center_color\n",
    "            color_matrix[-1].append(center_color)\n",
    "if not color_matrix[-1]: color_matrix.pop()                    \n",
    "im"
   ]
  },
  {
   "cell_type": "code",
   "execution_count": 37,
   "metadata": {},
   "outputs": [],
   "source": [
    "im.save(\"color-standard.png\")"
   ]
  },
  {
   "cell_type": "code",
   "execution_count": 38,
   "metadata": {},
   "outputs": [],
   "source": [
    "n, m = len(color_matrix), len(color_matrix[0])"
   ]
  },
  {
   "cell_type": "code",
   "execution_count": 39,
   "metadata": {},
   "outputs": [],
   "source": [
    "im = Image.new(mode=\"RGB\", size=(n, m))"
   ]
  },
  {
   "cell_type": "code",
   "execution_count": 41,
   "metadata": {},
   "outputs": [
    {
     "data": {
      "image/png": "[encoded data removed]",
      "text/plain": [
       "<PIL.Image.Image image mode=RGB size=42x47>"
      ]
     },
     "execution_count": 41,
     "metadata": {},
     "output_type": "execute_result"
    }
   ],
   "source": [
    "for i in range(n):\n",
    "    for j in range(m):\n",
    "        im.putpixel((i, j), color_matrix[i][j])\n",
    "\n",
    "im.save(\"india-final.png\")\n",
    "im"
   ]
  },
  {
   "cell_type": "code",
   "execution_count": 42,
   "metadata": {},
   "outputs": [],
   "source": [
    "color_dict = {\n",
    "    (255, 255, 255): \"white\",\n",
    "    (255, 165, 0): \"orange\",\n",
    "    (0, 255, 0): \"green\",\n",
    "    (0, 0, 255): \"blue\",\n",
    "    (0, 0, 0): \"black\"\n",
    "}"
   ]
  },
  {
   "cell_type": "code",
   "execution_count": 43,
   "metadata": {},
   "outputs": [],
   "source": [
    "color_data = [[color_dict[color_matrix[i][j]] for j in range(m)] for i in range(n)]"
   ]
  },
  {
   "cell_type": "code",
   "execution_count": 46,
   "metadata": {},
   "outputs": [],
   "source": [
    "with open(\"color_matrix_data.py\", \"w\") as f:\n",
    "    f.write(\"color_data = \" + str(color_data))"
   ]
  },
  {
   "cell_type": "code",
   "execution_count": null,
   "metadata": {},
   "outputs": [],
   "source": []
  }
 ],
 "metadata": {
  "kernelspec": {
   "display_name": "Python 3.9.0 64-bit",
   "language": "python",
   "name": "python3"
  },
  "language_info": {
   "codemirror_mode": {
    "name": "ipython",
    "version": 3
   },
   "file_extension": ".py",
   "mimetype": "text/x-python",
   "name": "python",
   "nbconvert_exporter": "python",
   "pygments_lexer": "ipython3",
   "version": "3.9.0"
  },
  "orig_nbformat": 4,
  "vscode": {
   "interpreter": {
    "hash": "8f5816e6188795d1cc8afa4306b69c5e3a103f064a75e820fe776234e4cf83e8"
   }
  }
 },
 "nbformat": 4,
 "nbformat_minor": 2
}
